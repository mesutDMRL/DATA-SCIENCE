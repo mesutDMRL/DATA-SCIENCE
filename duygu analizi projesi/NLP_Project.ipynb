{
 "cells": [
  {
   "cell_type": "code",
   "execution_count": 14,
   "id": "e1bc99e6",
   "metadata": {},
   "outputs": [],
   "source": [
    "import numpy as np\n",
    "import pandas as pd\n",
    "import matplotlib.pyplot as plt\n",
    "from sklearn.model_selection import train_test_split\n",
    "from sklearn.feature_extraction.text import CountVectorizer\n",
    "from sklearn.ensemble import RandomForestClassifier\n",
    "from sklearn.metrics import roc_auc_score\n",
    "from bs4 import BeautifulSoup\n",
    "import re\n",
    "import nltk\n",
    "from nltk.corpus import stopwords"
   ]
  },
  {
   "cell_type": "code",
   "execution_count": 15,
   "id": "7468d050",
   "metadata": {},
   "outputs": [],
   "source": [
    "df = pd.read_csv(\"NLPlabeledData.tsv\", delimiter = \"\\t\", quoting=3)"
   ]
  },
  {
   "cell_type": "code",
   "execution_count": 16,
   "id": "64306cd9",
   "metadata": {},
   "outputs": [],
   "source": [
    "def process(review):\n",
    "    # HTML taglarından kurtulma\n",
    "    review = BeautifulSoup(review).get_text()\n",
    "    # noktalama işaretleri ve sayılardan kurtulma\n",
    "    review = re.sub(\"[^a-zA-Z]\", \" \", review)\n",
    "    # büyük harfleri küçük harf yapma\n",
    "    review = review.lower()\n",
    "    # split ile tüm kelimeleri ayırma\n",
    "    review = review.split()\n",
    "    # stopwords'lerden kurtulma (tek başına bir anlam ifade etmeyen kelimeler)\n",
    "    swords = set(stopwords.words(\"english\"))\n",
    "    review = [w for w in review if w not in swords]\n",
    "    # kelimeleri tekrar birleştirip return ediyoruz\n",
    "    return(\" \".join(review))"
   ]
  },
  {
   "cell_type": "code",
   "execution_count": 17,
   "id": "eaba44c3",
   "metadata": {},
   "outputs": [
    {
     "name": "stdout",
     "output_type": "stream",
     "text": [
      "No of reviews processed = 1000\n",
      "No of reviews processed = 2000\n",
      "No of reviews processed = 3000\n",
      "No of reviews processed = 4000\n",
      "No of reviews processed = 5000\n",
      "No of reviews processed = 6000\n",
      "No of reviews processed = 7000\n",
      "No of reviews processed = 8000\n",
      "No of reviews processed = 9000\n",
      "No of reviews processed = 10000\n",
      "No of reviews processed = 11000\n",
      "No of reviews processed = 12000\n",
      "No of reviews processed = 13000\n",
      "No of reviews processed = 14000\n",
      "No of reviews processed = 15000\n",
      "No of reviews processed = 16000\n",
      "No of reviews processed = 17000\n",
      "No of reviews processed = 18000\n",
      "No of reviews processed = 19000\n",
      "No of reviews processed = 20000\n",
      "No of reviews processed = 21000\n",
      "No of reviews processed = 22000\n",
      "No of reviews processed = 23000\n",
      "No of reviews processed = 24000\n",
      "No of reviews processed = 25000\n"
     ]
    }
   ],
   "source": [
    "# ilerlemeyi görmek için her 1000 review'dan sonra ekrana yazı yazdırıyoruz.\n",
    "train_x_tum = []\n",
    "for r in range(len(df.review)):\n",
    "    if (r+1)%1000 ==0:\n",
    "        print(\"No of reviews processed =\", r+1)\n",
    "    train_x_tum.append(process(df.review[r]))"
   ]
  },
  {
   "cell_type": "code",
   "execution_count": 18,
   "id": "c8a7a097",
   "metadata": {},
   "outputs": [],
   "source": [
    "x = train_x_tum\n",
    "y = np.array(df.sentiment)\n",
    "\n",
    "x_train, x_test, y_train, y_test = train_test_split(x,y, test_size=0.1, random_state=42)"
   ]
  },
  {
   "cell_type": "code",
   "execution_count": 19,
   "id": "8018d475",
   "metadata": {},
   "outputs": [],
   "source": [
    "# countvectorizer kullanarak en çok kullanılan 5000 kelimenin olduğu bir bag of words matrisi oluşturuyoruz.\n",
    "vectorizer = CountVectorizer(max_features= 5000)\n",
    "\n",
    "# train verilerimizi feature matrisine dönüştürüyoruz.\n",
    "x_train = vectorizer.fit_transform(x_train)"
   ]
  },
  {
   "cell_type": "code",
   "execution_count": 20,
   "id": "35d61eaf",
   "metadata": {},
   "outputs": [
    {
     "data": {
      "text/plain": [
       "<22500x5000 sparse matrix of type '<class 'numpy.int64'>'\n",
       "\twith 1776690 stored elements in Compressed Sparse Row format>"
      ]
     },
     "execution_count": 20,
     "metadata": {},
     "output_type": "execute_result"
    }
   ],
   "source": [
    "x_train"
   ]
  },
  {
   "cell_type": "code",
   "execution_count": 21,
   "id": "06472b03",
   "metadata": {},
   "outputs": [],
   "source": [
    "# x_train'i array'a dönüştürüyoruz çünkü fit işlemi için array istiyor\n",
    "x_train = x_train.toarray()"
   ]
  },
  {
   "cell_type": "code",
   "execution_count": 23,
   "id": "ba9abef0",
   "metadata": {},
   "outputs": [
    {
     "data": {
      "text/plain": [
       "((22500, 5000), (22500,))"
      ]
     },
     "execution_count": 23,
     "metadata": {},
     "output_type": "execute_result"
    }
   ],
   "source": [
    "x_train.shape, y_train2.shape"
   ]
  },
  {
   "cell_type": "code",
   "execution_count": 25,
   "id": "d7ea3cdd",
   "metadata": {},
   "outputs": [
    {
     "data": {
      "text/plain": [
       "RandomForestClassifier(random_state=42)"
      ]
     },
     "execution_count": 25,
     "metadata": {},
     "output_type": "execute_result"
    }
   ],
   "source": [
    "model = RandomForestClassifier(n_estimators = 100, random_state = 42)\n",
    "model.fit(x_train, y_train)"
   ]
  },
  {
   "cell_type": "code",
   "execution_count": 26,
   "id": "a8377bd0",
   "metadata": {},
   "outputs": [],
   "source": [
    "# test verilerimizi feature vector matrisine dönüştürüyoruz.\n",
    "# yani aynı işlemi(bag of words matrisine dönüştürme) tekrarlıyoruz test datamız için.\n",
    "testxx = vectorizer.transform(x_test)"
   ]
  },
  {
   "cell_type": "code",
   "execution_count": 29,
   "id": "4eaff4c8",
   "metadata": {},
   "outputs": [
    {
     "data": {
      "text/plain": [
       "<2500x5000 sparse matrix of type '<class 'numpy.int64'>'\n",
       "\twith 198330 stored elements in Compressed Sparse Row format>"
      ]
     },
     "execution_count": 29,
     "metadata": {},
     "output_type": "execute_result"
    }
   ],
   "source": [
    "testxx"
   ]
  },
  {
   "cell_type": "code",
   "execution_count": 30,
   "id": "8bb4789d",
   "metadata": {},
   "outputs": [],
   "source": [
    "testxx = testxx.toarray()"
   ]
  },
  {
   "cell_type": "code",
   "execution_count": 31,
   "id": "f559db91",
   "metadata": {},
   "outputs": [
    {
     "data": {
      "text/plain": [
       "(2500, 5000)"
      ]
     },
     "execution_count": 31,
     "metadata": {},
     "output_type": "execute_result"
    }
   ],
   "source": [
    "testxx.shape"
   ]
  },
  {
   "cell_type": "code",
   "execution_count": 32,
   "id": "80363c63",
   "metadata": {},
   "outputs": [],
   "source": [
    "test_predict = model.predict(testxx)\n",
    "dogruluk = roc_auc_score(y_test, test_predict)"
   ]
  },
  {
   "cell_type": "code",
   "execution_count": 36,
   "id": "5e23b865",
   "metadata": {},
   "outputs": [
    {
     "name": "stdout",
     "output_type": "stream",
     "text": [
      "Dogruluk Oranı: % 84.12705119537827\n"
     ]
    }
   ],
   "source": [
    "print(\"Dogruluk Oranı: %\", dogruluk * 100)"
   ]
  },
  {
   "cell_type": "code",
   "execution_count": null,
   "id": "d82d83d9",
   "metadata": {},
   "outputs": [],
   "source": []
  }
 ],
 "metadata": {
  "kernelspec": {
   "display_name": "Python 3",
   "language": "python",
   "name": "python3"
  },
  "language_info": {
   "codemirror_mode": {
    "name": "ipython",
    "version": 3
   },
   "file_extension": ".py",
   "mimetype": "text/x-python",
   "name": "python",
   "nbconvert_exporter": "python",
   "pygments_lexer": "ipython3",
   "version": "3.8.8"
  }
 },
 "nbformat": 4,
 "nbformat_minor": 5
}

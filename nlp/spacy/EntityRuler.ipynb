{
 "cells": [
  {
   "cell_type": "code",
   "execution_count": 1,
   "id": "80cc170e",
   "metadata": {},
   "outputs": [],
   "source": [
    "import spacy"
   ]
  },
  {
   "cell_type": "code",
   "execution_count": 2,
   "id": "62ca550f",
   "metadata": {},
   "outputs": [],
   "source": [
    "#Build upon the spaCy Small Model\n",
    "nlp = spacy.load(\"en_core_web_sm\")"
   ]
  },
  {
   "cell_type": "code",
   "execution_count": 3,
   "id": "30f0aefb",
   "metadata": {},
   "outputs": [],
   "source": [
    "#Sample text\n",
    "text = \"The village of Treblinka is in Poland. Treblinka was also an extermination camp.\""
   ]
  },
  {
   "cell_type": "code",
   "execution_count": 4,
   "id": "f625bda2",
   "metadata": {},
   "outputs": [],
   "source": [
    "#Create the Doc object\n",
    "doc = nlp(text)"
   ]
  },
  {
   "cell_type": "code",
   "execution_count": 5,
   "id": "a57422cd",
   "metadata": {},
   "outputs": [
    {
     "name": "stdout",
     "output_type": "stream",
     "text": [
      "Treblinka GPE\n",
      "Poland GPE\n"
     ]
    }
   ],
   "source": [
    "#extract entities\n",
    "for ent in doc.ents:\n",
    "    print (ent.text, ent.label_)"
   ]
  },
  {
   "cell_type": "markdown",
   "id": "eb85db09",
   "metadata": {},
   "source": [
    "# EntityRuler"
   ]
  },
  {
   "cell_type": "code",
   "execution_count": 6,
   "id": "94b64745",
   "metadata": {},
   "outputs": [],
   "source": [
    "#Create the EntityRuler\n",
    "ruler = nlp.add_pipe(\"entity_ruler\", after=\"ner\")"
   ]
  },
  {
   "cell_type": "code",
   "execution_count": 7,
   "id": "aa97ac71",
   "metadata": {},
   "outputs": [],
   "source": [
    "patterns = [\n",
    "                {\"label\": \"GPE\", \"pattern\": \"Treblinka\"}\n",
    "            ]\n",
    "\n",
    "ruler.add_patterns(patterns)"
   ]
  },
  {
   "cell_type": "code",
   "execution_count": 8,
   "id": "be5c9f2f",
   "metadata": {},
   "outputs": [],
   "source": [
    "doc = nlp(text)"
   ]
  },
  {
   "cell_type": "code",
   "execution_count": 9,
   "id": "575e6e7d",
   "metadata": {},
   "outputs": [
    {
     "name": "stdout",
     "output_type": "stream",
     "text": [
      "Treblinka GPE\n",
      "Poland GPE\n",
      "Treblinka GPE\n"
     ]
    }
   ],
   "source": [
    "#extract entities\n",
    "for ent in doc.ents:\n",
    "    print (ent.text, ent.label_)"
   ]
  },
  {
   "cell_type": "code",
   "execution_count": 10,
   "id": "14bccd2b",
   "metadata": {},
   "outputs": [
    {
     "data": {
      "text/plain": [
       "{'summary': {'tok2vec': {'assigns': ['doc.tensor'],\n",
       "   'requires': [],\n",
       "   'scores': [],\n",
       "   'retokenizes': False},\n",
       "  'tagger': {'assigns': ['token.tag'],\n",
       "   'requires': [],\n",
       "   'scores': ['tag_acc'],\n",
       "   'retokenizes': False},\n",
       "  'parser': {'assigns': ['token.dep',\n",
       "    'token.head',\n",
       "    'token.is_sent_start',\n",
       "    'doc.sents'],\n",
       "   'requires': [],\n",
       "   'scores': ['dep_uas',\n",
       "    'dep_las',\n",
       "    'dep_las_per_type',\n",
       "    'sents_p',\n",
       "    'sents_r',\n",
       "    'sents_f'],\n",
       "   'retokenizes': False},\n",
       "  'ner': {'assigns': ['doc.ents', 'token.ent_iob', 'token.ent_type'],\n",
       "   'requires': [],\n",
       "   'scores': ['ents_f', 'ents_p', 'ents_r', 'ents_per_type'],\n",
       "   'retokenizes': False},\n",
       "  'entity_ruler': {'assigns': ['doc.ents', 'token.ent_type', 'token.ent_iob'],\n",
       "   'requires': [],\n",
       "   'scores': ['ents_f', 'ents_p', 'ents_r', 'ents_per_type'],\n",
       "   'retokenizes': False},\n",
       "  'attribute_ruler': {'assigns': [],\n",
       "   'requires': [],\n",
       "   'scores': [],\n",
       "   'retokenizes': False},\n",
       "  'lemmatizer': {'assigns': ['token.lemma'],\n",
       "   'requires': [],\n",
       "   'scores': ['lemma_acc'],\n",
       "   'retokenizes': False}},\n",
       " 'problems': {'tok2vec': [],\n",
       "  'tagger': [],\n",
       "  'parser': [],\n",
       "  'ner': [],\n",
       "  'entity_ruler': [],\n",
       "  'attribute_ruler': [],\n",
       "  'lemmatizer': []},\n",
       " 'attrs': {'doc.tensor': {'assigns': ['tok2vec'], 'requires': []},\n",
       "  'token.ent_type': {'assigns': ['ner', 'entity_ruler'], 'requires': []},\n",
       "  'token.tag': {'assigns': ['tagger'], 'requires': []},\n",
       "  'token.lemma': {'assigns': ['lemmatizer'], 'requires': []},\n",
       "  'token.head': {'assigns': ['parser'], 'requires': []},\n",
       "  'doc.sents': {'assigns': ['parser'], 'requires': []},\n",
       "  'token.is_sent_start': {'assigns': ['parser'], 'requires': []},\n",
       "  'doc.ents': {'assigns': ['ner', 'entity_ruler'], 'requires': []},\n",
       "  'token.ent_iob': {'assigns': ['ner', 'entity_ruler'], 'requires': []},\n",
       "  'token.dep': {'assigns': ['parser'], 'requires': []}}}"
      ]
     },
     "execution_count": 10,
     "metadata": {},
     "output_type": "execute_result"
    }
   ],
   "source": [
    "nlp.analyze_pipes()"
   ]
  },
  {
   "cell_type": "markdown",
   "id": "d86d8718",
   "metadata": {},
   "source": [
    "# Introducing Complex Rules and Variance to the EntityRuler (Advanced)"
   ]
  },
  {
   "cell_type": "code",
   "execution_count": 21,
   "id": "71fc6a26",
   "metadata": {},
   "outputs": [],
   "source": [
    "#Sample text\n",
    "text = \"This is a sample number (539) 505-7649.\""
   ]
  },
  {
   "cell_type": "code",
   "execution_count": 22,
   "id": "5eb2f517",
   "metadata": {},
   "outputs": [],
   "source": [
    "#Build upon the spaCy Small Model\n",
    "nlp = spacy.blank(\"en\")"
   ]
  },
  {
   "cell_type": "code",
   "execution_count": 23,
   "id": "4d2d3a15",
   "metadata": {},
   "outputs": [],
   "source": [
    "#Create the Ruler and Add it\n",
    "ruler = nlp.add_pipe(\"entity_ruler\")"
   ]
  },
  {
   "cell_type": "code",
   "execution_count": 24,
   "id": "34f6a87b",
   "metadata": {},
   "outputs": [],
   "source": [
    "#List of Entities and Patterns (source: https://spacy.io/usage/rule-based-matching)\n",
    "patterns = [\n",
    "                {\"label\": \"PHONE_NUMBER\", \"pattern\": [{\"ORTH\": \"(\"}, {\"SHAPE\": \"ddd\"}, {\"ORTH\": \")\"}, {\"SHAPE\": \"ddd\"},\n",
    "                {\"ORTH\": \"-\", \"OP\": \"?\"}, {\"SHAPE\": \"dddd\"}]}\n",
    "            ]\n",
    "#add patterns to ruler\n",
    "ruler.add_patterns(patterns)"
   ]
  },
  {
   "cell_type": "code",
   "execution_count": 25,
   "id": "de9f4f2f",
   "metadata": {},
   "outputs": [],
   "source": [
    "#create the doc\n",
    "doc = nlp(text)"
   ]
  },
  {
   "cell_type": "code",
   "execution_count": 26,
   "id": "03a4d332",
   "metadata": {},
   "outputs": [
    {
     "name": "stdout",
     "output_type": "stream",
     "text": [
      "(539) 505-7649 PHONE_NUMBER\n"
     ]
    }
   ],
   "source": [
    "#extract entities\n",
    "for ent in doc.ents:\n",
    "    print (ent.text, ent.label_)"
   ]
  },
  {
   "cell_type": "code",
   "execution_count": null,
   "id": "89928180",
   "metadata": {},
   "outputs": [],
   "source": []
  },
  {
   "cell_type": "code",
   "execution_count": null,
   "id": "1a81ab96",
   "metadata": {},
   "outputs": [],
   "source": []
  },
  {
   "cell_type": "code",
   "execution_count": 17,
   "id": "293c688b",
   "metadata": {},
   "outputs": [],
   "source": [
    "nlp = spacy.load(\"en_core_web_lg\")"
   ]
  },
  {
   "cell_type": "code",
   "execution_count": 18,
   "id": "f5dfa5fb",
   "metadata": {},
   "outputs": [],
   "source": [
    "text = '''Harry James[59] Potter (b. 31 July 1980[1]) was an English half-blood[2] wizard, and one of the most famous wizards \n",
    "of modern times. He was the only child and son of James and Lily Potter (née Evans), both members of the original Order of \n",
    "the Phoenix. Harry's birth was overshadowed by a prophecy, naming either himself or Neville Longbottom as the one with the \n",
    "power to vanquish Lord Voldemort. After half of the prophecy was reported to Voldemort, courtesy of Severus Snape, Harry was \n",
    "chosen as the target due to his many similarities with the Dark Lord. In turn, this caused the Potter family to go into hiding.\n",
    "Voldemort made his first vain attempt to circumvent the prophecy when Harry was a year and three months old. During this \n",
    "attempt, he murdered Harry's parents as they tried to protect him, but this unsuccessful attempt to kill Harry led to \n",
    "Voldemort's first downfall. This downfall marked the end of the First Wizarding War, and to Harry henceforth being known as \n",
    "the 'Boy Who Lived',[5] as he was the only known survivor of the Killing Curse.\n",
    "One consequence of Lily's loving sacrifice was that her orphaned son had to be raised by her only remaining blood relative,\n",
    "his Muggle aunt, Petunia Dursley. While in her care he would be protected from Lord Voldemort, due to the Bond of Blood charm\n",
    "Albus Dumbledore placed upon him.[60] This powerful charm would protect him until he became of age, or no longer called his \n",
    "aunt's house home. Due to Petunia's resentment of her sister and her magic gifts, Harry grew up abused and neglected.\n",
    "On his eleventh birthday, Harry learned that he was a wizard, from Rubeus Hagrid.[61] He began attending Hogwarts School of \n",
    "Witchcraft and Wizardry in 1991. The Sorting Hat was initially going to Sort Harry into Slytherin House, but Harry pleaded\n",
    "'not Slytherin' and the Hat heeded this plea, instead sorting the young wizard into Gryffindor House.[62] At school, Harry \n",
    "became best friends with Ron Weasley and Hermione Granger. He later became the youngest Quidditch Seeker in over a century \n",
    "and eventually the captain of the Gryffindor House Quidditch Team in his sixth year, winning two Quidditch Cups.[63] He became\n",
    "even better known in his early years for protecting the Philosopher's Stone from Voldemort, saving Ron's sister Ginny Weasley, \n",
    "solving the mystery of the Chamber of Secrets, slaying Salazar Slytherin's basilisk, and learning how to conjure a corporeal \n",
    "stag Patronus at the age of thirteen. In his fourth year, Harry won the Triwizard Tournament, although the competition ended \n",
    "with the tragic death of Cedric Diggory and the return of Lord Voldemort. During the next school year, Harry reluctantly \n",
    "taught and led Dumbledore's Army. He also fought in the Battle of the Department of Mysteries, during which he lost his \n",
    "godfather, Sirius Black.'''"
   ]
  },
  {
   "cell_type": "code",
   "execution_count": 19,
   "id": "91b42eee",
   "metadata": {},
   "outputs": [],
   "source": [
    "doc = nlp(text)"
   ]
  },
  {
   "cell_type": "code",
   "execution_count": 20,
   "id": "e97c5cf5",
   "metadata": {},
   "outputs": [
    {
     "name": "stdout",
     "output_type": "stream",
     "text": [
      "Harry James[59] Potter *** PERSON\n",
      "Evans *** PERSON\n",
      "Harry *** PERSON\n",
      "Neville Longbottom *** PERSON\n",
      "Voldemort *** PERSON\n",
      "Severus Snape *** PERSON\n",
      "Harry *** PERSON\n",
      "Harry *** PERSON\n",
      "Harry *** PERSON\n",
      "Harry *** PERSON\n",
      "Harry *** PERSON\n",
      "Lily *** PERSON\n",
      "Petunia Dursley *** PERSON\n",
      "Voldemort *** PERSON\n",
      "Harry *** PERSON\n",
      "Harry *** PERSON\n",
      "Harry *** PERSON\n",
      "Harry \n",
      " *** PERSON\n",
      "Ron Weasley *** PERSON\n",
      "Hermione Granger *** PERSON\n",
      "Quidditch Seeker *** PERSON\n",
      "Voldemort *** PERSON\n",
      "Ron *** PERSON\n",
      "Ginny Weasley *** PERSON\n",
      "Salazar Slytherin's *** PERSON\n",
      "Harry *** PERSON\n",
      "Cedric Diggory *** PERSON\n",
      "Voldemort *** PERSON\n",
      "Harry *** PERSON\n"
     ]
    }
   ],
   "source": [
    "for ent in doc.ents:\n",
    "    if ent.label_ == \"PERSON\":\n",
    "        print (ent.text, \"***\", ent.label_)"
   ]
  }
 ],
 "metadata": {
  "kernelspec": {
   "display_name": "Python 3",
   "language": "python",
   "name": "python3"
  },
  "language_info": {
   "codemirror_mode": {
    "name": "ipython",
    "version": 3
   },
   "file_extension": ".py",
   "mimetype": "text/x-python",
   "name": "python",
   "nbconvert_exporter": "python",
   "pygments_lexer": "ipython3",
   "version": "3.8.8"
  }
 },
 "nbformat": 4,
 "nbformat_minor": 5
}

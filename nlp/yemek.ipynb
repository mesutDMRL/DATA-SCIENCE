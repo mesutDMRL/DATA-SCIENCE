{
 "cells": [
  {
   "cell_type": "code",
   "execution_count": 1,
   "id": "85bd0485",
   "metadata": {},
   "outputs": [
    {
     "name": "stderr",
     "output_type": "stream",
     "text": [
      "C:\\Users\\mesut\\anaconda3\\lib\\site-packages\\gensim\\similarities\\__init__.py:15: UserWarning: The gensim.similarities.levenshtein submodule is disabled, because the optional Levenshtein package <https://pypi.org/project/python-Levenshtein/> is unavailable. Install Levenhstein (e.g. `pip install python-Levenshtein`) to suppress this warning.\n",
      "  warnings.warn(msg)\n"
     ]
    }
   ],
   "source": [
    "import nltk\n",
    "import gensim\n",
    "import numpy as np\n",
    "import pandas as pd\n",
    "from typing import List\n",
    "from jpype import JClass, JString, getDefaultJVMPath, shutdownJVM, startJVM, java, isJVMStarted"
   ]
  },
  {
   "cell_type": "code",
   "execution_count": 2,
   "id": "1581c9bc",
   "metadata": {},
   "outputs": [],
   "source": [
    "df = pd.read_csv(\"yorumsepeti.csv\", sep = \";\")\n",
    "df = df.dropna()\n",
    "df = df[[\"review\"]]\n",
    "df = df.values.tolist()"
   ]
  },
  {
   "cell_type": "code",
   "execution_count": 3,
   "id": "21767ffd",
   "metadata": {},
   "outputs": [],
   "source": [
    "a = -1\n",
    "for i in df:\n",
    "    a +=1\n",
    "    for j in i:\n",
    "        if len(j) <=4:\n",
    "            del df[a]\n",
    "liste = []\n",
    "for i in df:\n",
    "    for j in i:\n",
    "        j = j.lower()\n",
    "        words = nltk.word_tokenize(j)\n",
    "        new_words= [word for word in words if word.isalnum()]\n",
    "        liste.append(new_words)"
   ]
  },
  {
   "cell_type": "code",
   "execution_count": 4,
   "id": "f782db65",
   "metadata": {},
   "outputs": [
    {
     "name": "stdout",
     "output_type": "stream",
     "text": [
      "nftntf\n"
     ]
    }
   ],
   "source": [
    "ZEMBEREK_PATH = r'C:\\Users\\mesut\\zemberek-full.jar'\n",
    "def init_jvm(jvmpath=ZEMBEREK_PATH):\n",
    "    if isJVMStarted():\n",
    "        print(\"gbgbgbgbg\")\n",
    "    else:\n",
    "        print(\"nftntf\")\n",
    "        startJVM(getDefaultJVMPath(), '-ea', '-Djava.class.path=%s' % (jvmpath))\n",
    "init_jvm()"
   ]
  },
  {
   "cell_type": "code",
   "execution_count": 5,
   "id": "2701aac6",
   "metadata": {},
   "outputs": [],
   "source": [
    "TurkishMorphology = JClass('zemberek.morphology.TurkishMorphology')\n",
    "morphology = TurkishMorphology.createWithDefaults()"
   ]
  },
  {
   "cell_type": "code",
   "execution_count": 6,
   "id": "1f917ee0",
   "metadata": {},
   "outputs": [],
   "source": [
    "b = \" \"\n",
    "c = -1\n",
    "for i in liste:\n",
    "    c+=1\n",
    "    a = \"\"\n",
    "    for j in i:\n",
    "        a += j + b\n",
    "    liste[c] = a\n",
    "liste2 = []\n",
    "liste = list(filter(None, liste))"
   ]
  },
  {
   "cell_type": "code",
   "execution_count": 7,
   "id": "ccfb6ee9",
   "metadata": {},
   "outputs": [],
   "source": [
    "# lemmatization\n",
    "for i in liste:\n",
    "    analysis: java.util.ArrayList = (\n",
    "        morphology.analyzeAndDisambiguate(i).bestAnalysis()\n",
    "        )\n",
    "    pos: List[str] = []\n",
    "    for i, analysis in enumerate(analysis, start=1):\n",
    "        f'\\nAnalysis {i}: {analysis}',\n",
    "        f'\\nPrimary POS {i}: {analysis.getPos()}'\n",
    "        f'\\nPrimary POS (Short Form) {i}: {analysis.getPos().shortForm}'\n",
    "       \n",
    "        pos.append(\n",
    "            f'{str(analysis.getLemmas()[0])}'\n",
    "            )\n",
    "    liste2.append(pos)"
   ]
  },
  {
   "cell_type": "code",
   "execution_count": 8,
   "id": "731a6619",
   "metadata": {},
   "outputs": [],
   "source": [
    "W2V_SIZE = 300\n",
    "W2V_WINDOW = 7\n",
    "W2V_EPOCH = 16\n",
    "W2V_MIN_COUNT = 10\n",
    "w2v_model = gensim.models.word2vec.Word2Vec(vector_size=W2V_SIZE, \n",
    "                                            window=W2V_WINDOW, \n",
    "                                            min_count=W2V_MIN_COUNT, \n",
    "                                            workers=8)"
   ]
  },
  {
   "cell_type": "code",
   "execution_count": 9,
   "id": "cc296528",
   "metadata": {},
   "outputs": [
    {
     "data": {
      "text/plain": [
       "(6849737, 10281344)"
      ]
     },
     "execution_count": 9,
     "metadata": {},
     "output_type": "execute_result"
    }
   ],
   "source": [
    "w2v_model.build_vocab(liste2)\n",
    "w2v_model.train(liste2, total_examples=len(liste2), epochs=W2V_EPOCH)"
   ]
  },
  {
   "cell_type": "code",
   "execution_count": 10,
   "id": "7a4b075c",
   "metadata": {},
   "outputs": [
    {
     "data": {
      "text/plain": [
       "[('kurabiye', 0.6363350749015808),\n",
       " ('puding', 0.5664054751396179),\n",
       " ('kahve', 0.4959833025932312),\n",
       " ('dondurma', 0.49025481939315796),\n",
       " ('düşünce', 0.4830177128314972),\n",
       " ('tulumba', 0.46871015429496765),\n",
       " ('donut', 0.4545120298862457),\n",
       " ('sürpriz', 0.4540376365184784),\n",
       " ('jest', 0.45127564668655396),\n",
       " ('sütlaç', 0.4505675137042999)]"
      ]
     },
     "execution_count": 10,
     "metadata": {},
     "output_type": "execute_result"
    }
   ],
   "source": [
    "w2v_model.wv.most_similar(\"tatlı\")"
   ]
  },
  {
   "cell_type": "code",
   "execution_count": 11,
   "id": "872f414d",
   "metadata": {},
   "outputs": [
    {
     "data": {
      "text/plain": [
       "[('süre', 0.4767528474330902),\n",
       " ('daim', 0.467551589012146),\n",
       " ('se', 0.4463024437427521),\n",
       " ('şey', 0.44054511189460754),\n",
       " ('herzaman', 0.437669575214386),\n",
       " ('haftasonu', 0.42593297362327576),\n",
       " ('sure', 0.4239300787448883),\n",
       " ('yön', 0.4140171706676483),\n",
       " ('hafta', 0.3945591449737549),\n",
       " ('yıl', 0.39436179399490356)]"
      ]
     },
     "execution_count": 11,
     "metadata": {},
     "output_type": "execute_result"
    }
   ],
   "source": [
    "w2v_model.wv.most_similar(\"zaman\")"
   ]
  },
  {
   "cell_type": "code",
   "execution_count": 12,
   "id": "62423556",
   "metadata": {},
   "outputs": [
    {
     "data": {
      "text/plain": [
       "[('yiyecek', 0.4804593622684479),\n",
       " ('çorba', 0.38541296124458313),\n",
       " ('sodexo', 0.34751272201538086),\n",
       " ('konum', 0.3406924307346344),\n",
       " ('ürün', 0.33610275387763977),\n",
       " ('pilav', 0.33289384841918945),\n",
       " ('yardım', 0.3179759085178375),\n",
       " ('çay', 0.31706684827804565),\n",
       " ('restorant', 0.31647875905036926),\n",
       " ('cihaz', 0.3017111122608185)]"
      ]
     },
     "execution_count": 12,
     "metadata": {},
     "output_type": "execute_result"
    }
   ],
   "source": [
    "w2v_model.wv.most_similar(\"yemek\")"
   ]
  },
  {
   "cell_type": "code",
   "execution_count": null,
   "id": "bbc43ecf",
   "metadata": {},
   "outputs": [],
   "source": [
    "## MESUT DEMİREL"
   ]
  }
 ],
 "metadata": {
  "kernelspec": {
   "display_name": "Python 3",
   "language": "python",
   "name": "python3"
  },
  "language_info": {
   "codemirror_mode": {
    "name": "ipython",
    "version": 3
   },
   "file_extension": ".py",
   "mimetype": "text/x-python",
   "name": "python",
   "nbconvert_exporter": "python",
   "pygments_lexer": "ipython3",
   "version": "3.8.8"
  }
 },
 "nbformat": 4,
 "nbformat_minor": 5
}
